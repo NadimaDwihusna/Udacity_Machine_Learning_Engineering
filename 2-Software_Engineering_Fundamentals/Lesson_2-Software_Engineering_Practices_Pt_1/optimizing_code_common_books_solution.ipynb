# Optimizing Code: Common Books - Solution
Here's the code your coworker wrote to find the common book ids in `books_published_last_two_years.txt` and `all_coding_books.txt` to obtain a list of recent coding books.
